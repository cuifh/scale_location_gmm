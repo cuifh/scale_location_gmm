{
 "cells": [
  {
   "cell_type": "code",
   "execution_count": 1,
   "metadata": {},
   "outputs": [],
   "source": [
    "import numpy as np\n",
    "import scipy as sp\n",
    "import matplotlib.pyplot as plt"
   ]
  },
  {
   "cell_type": "markdown",
   "metadata": {},
   "source": [
    "Define functions"
   ]
  },
  {
   "cell_type": "code",
   "execution_count": 2,
   "metadata": {},
   "outputs": [],
   "source": [
    "def L(theta,nu,const):\n",
    "    \"\"\"\n",
    "    loss function\n",
    "    theta:mean\n",
    "    nu: precision\n",
    "    \"\"\"\n",
    "    return np.log(nu)-(1+theta**2)/2*(nu**2)+(theta**2)/2*(nu**4)+const*(theta**4)*(nu**8)\n",
    "\n",
    "def dL_theta(theta,nu,const):\n",
    "    \"\"\"\n",
    "    derivative of theta\n",
    "    theta:mean\n",
    "    nu: precision\n",
    "    \"\"\"\n",
    "    return -theta*(nu**2)+theta*(nu**4)+4*const*(theta**3)*(nu**8)\n",
    "\n",
    "def dL_nu(theta,nu,const):\n",
    "    \"\"\"\n",
    "    derivative of nu\n",
    "    theta:mean\n",
    "    nu: precision\n",
    "    \"\"\"\n",
    "    return 1/nu-(1+theta**2)*nu+2*(theta**2)*(nu**3)+8*const*(theta**4)*(nu**7)"
   ]
  },
  {
   "cell_type": "code",
   "execution_count": 3,
   "metadata": {},
   "outputs": [],
   "source": [
    "theta_star=0\n",
    "nu_star=1"
   ]
  },
  {
   "cell_type": "markdown",
   "metadata": {},
   "source": [
    "GD:"
   ]
  },
  {
   "cell_type": "code",
   "execution_count": 4,
   "metadata": {},
   "outputs": [],
   "source": [
    "def gd(iteration,theta0,nu0,theta_star,nu_star,const,eta,beta):\n",
    "    \n",
    "    theta=theta0\n",
    "    nu=nu0\n",
    "    \n",
    "    L_val_GD=np.array([])\n",
    "    DIFF_theta_GD=np.array([])\n",
    "    DIFF_nu_GD=np.array([])\n",
    "    for i in range(iteration):\n",
    "        L_val_GD=np.append(L_val_GD,L(theta,nu,const))\n",
    "        DIFF_theta_GD=np.append(DIFF_theta_GD,abs(theta-theta_star))\n",
    "        DIFF_nu_GD=np.append(DIFF_nu_GD,abs(nu-nu_star))\n",
    "        \n",
    "        DLN_theta=dL_theta(theta,nu,const)\n",
    "        DLN_nu=dL_nu(theta,nu,const)\n",
    "        \n",
    "        theta=theta+eta*DLN_theta\n",
    "        nu=nu+eta*DLN_nu\n",
    "    return DIFF_theta_GD, DIFF_nu_GD"
   ]
  },
  {
   "cell_type": "markdown",
   "metadata": {},
   "source": [
    "Adagrad"
   ]
  },
  {
   "cell_type": "code",
   "execution_count": 5,
   "metadata": {},
   "outputs": [],
   "source": [
    "def adagd(iteration,theta0,nu0,theta_star,nu_star,const,eta,beta):\n",
    "    \n",
    "    theta=theta0\n",
    "    nu=nu0\n",
    "    \n",
    "    L_val=np.array([])\n",
    "    DIFF_theta=np.array([])\n",
    "    DIFF_nu=np.array([])\n",
    "    for i in range(iteration):\n",
    "        L_val=np.append(L_val,L(theta,nu,const))\n",
    "        DIFF_theta=np.append(DIFF_theta,abs(theta-theta_star))\n",
    "        DIFF_nu=np.append(DIFF_nu,abs(nu-nu_star))\n",
    "        \n",
    "        DLN_theta=dL_theta(theta,nu,const)\n",
    "        DLN_nu=dL_nu(theta,nu,const)\n",
    "        \n",
    "        theta=theta+eta/(beta**i)*DLN_theta\n",
    "        nu=nu+eta*DLN_nu\n",
    "    return DIFF_theta, DIFF_nu"
   ]
  },
  {
   "cell_type": "code",
   "execution_count": 10,
   "metadata": {},
   "outputs": [
    {
     "data": {
      "text/plain": [
       "Text(0, 0.5, 'log ||theta-theta*||')"
      ]
     },
     "execution_count": 10,
     "metadata": {},
     "output_type": "execute_result"
    },
    {
     "data": {
      "image/png": "[encoded data removed]",
      "text/plain": [
       "<Figure size 432x288 with 1 Axes>"
      ]
     },
     "metadata": {
      "needs_background": "light"
     },
     "output_type": "display_data"
    }
   ],
   "source": [
    "iteration=1000\n",
    "\n",
    "theta0=0.01 #initial\n",
    "nu0=0.9   #initial \n",
    "const=1\n",
    "\n",
    "beta=1\n",
    "eta=0.02\n",
    "\n",
    "\n",
    "DIFF_adagrad_theta,DIFF_adagrad_nu=adagd(iteration,theta0,nu0,theta_star,nu_star,const,eta,beta)\n",
    "DIFF_GD_theta,DIFF_GD_nu=gd(iteration,theta0,nu0,theta_star,nu_star,const,eta,beta)\n",
    "plt.plot(range(iteration), np.log(DIFF_adagrad_theta), label='Adagd, eta=0.02')\n",
    "plt.plot(range(iteration), np.log(DIFF_GD_theta), label='GD, eta=0.02')\n",
    "plt.legend()\n",
    "plt.xlabel('Iteration')\n",
    "plt.ylabel('log ||theta-theta*||')"
   ]
  },
  {
   "cell_type": "code",
   "execution_count": 7,
   "metadata": {},
   "outputs": [
    {
     "data": {
      "text/plain": [
       "Text(0, 0.5, 'log ||nu-nu*||')"
      ]
     },
     "execution_count": 7,
     "metadata": {},
     "output_type": "execute_result"
    },
    {
     "data": {
      "image/png": "[encoded data removed]",
      "text/plain": [
       "<Figure size 432x288 with 1 Axes>"
      ]
     },
     "metadata": {
      "needs_background": "light"
     },
     "output_type": "display_data"
    }
   ],
   "source": [
    "plt.plot(range(iteration), np.log(DIFF_adagrad_nu), label='Adagd, eta=0.02')\n",
    "plt.plot(range(iteration), np.log(DIFF_GD_nu), label='GD, eta=0.02')\n",
    "plt.legend()\n",
    "plt.xlabel('Iteration')\n",
    "plt.ylabel('log ||nu-nu*||')"
   ]
  },
  {
   "cell_type": "code",
   "execution_count": null,
   "metadata": {},
   "outputs": [],
   "source": []
  }
 ],
 "metadata": {
  "kernelspec": {
   "display_name": "Python 3",
   "language": "python",
   "name": "python3"
  },
  "language_info": {
   "codemirror_mode": {
    "name": "ipython",
    "version": 3
   },
   "file_extension": ".py",
   "mimetype": "text/x-python",
   "name": "python",
   "nbconvert_exporter": "python",
   "pygments_lexer": "ipython3",
   "version": "3.7.6"
  }
 },
 "nbformat": 4,
 "nbformat_minor": 4
}
