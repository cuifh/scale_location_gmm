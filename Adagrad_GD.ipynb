{
 "cells": [
  {
   "cell_type": "code",
   "execution_count": 1,
   "metadata": {},
   "outputs": [],
   "source": [
    "import numpy as np\n",
    "import scipy as sp\n",
    "import matplotlib.pyplot as plt"
   ]
  },
  {
   "cell_type": "markdown",
   "metadata": {},
   "source": [
    "Define functions"
   ]
  },
  {
   "cell_type": "code",
   "execution_count": 2,
   "metadata": {},
   "outputs": [],
   "source": [
    "def L(theta,nu,const):\n",
    "    \"\"\"\n",
    "    loss function\n",
    "    theta:mean\n",
    "    nu: precision\n",
    "    \"\"\"\n",
    "    return np.log(nu)-(1+theta**2)/2*(nu**2)+(theta**2)/2*(nu**4)+const*(theta**4)*(nu**8)\n",
    "\n",
    "def dL_theta(theta,nu,const):\n",
    "    \"\"\"\n",
    "    derivative of theta\n",
    "    theta:mean\n",
    "    nu: precision\n",
    "    \"\"\"\n",
    "    return -theta*(nu**2)+theta*(nu**4)+4*const*(theta**3)*(nu**8)\n",
    "\n",
    "def dL_nu(theta,nu,const):\n",
    "    \"\"\"\n",
    "    derivative of nu\n",
    "    theta:mean\n",
    "    nu: precision\n",
    "    \"\"\"\n",
    "    return 1/nu-(1+theta**2)*nu+2*(theta**2)*(nu**3)+8*const*(theta**4)*(nu**7)"
   ]
  },
  {
   "cell_type": "code",
   "execution_count": 3,
   "metadata": {},
   "outputs": [],
   "source": [
    "theta_star=0\n",
    "nu_star=1"
   ]
  },
  {
   "cell_type": "markdown",
   "metadata": {},
   "source": [
    "GD:"
   ]
  },
  {
   "cell_type": "code",
   "execution_count": 4,
   "metadata": {},
   "outputs": [],
   "source": [
    "def gd(iteration,theta0,nu0,theta_star,nu_star,const,eta,beta):\n",
    "    \n",
    "    theta=theta0\n",
    "    nu=nu0\n",
    "    \n",
    "    L_val_GD=np.array([])\n",
    "    DIFF_theta_GD=np.array([])\n",
    "    DIFF_nu_GD=np.array([])\n",
    "    for i in range(iteration):\n",
    "        L_val_GD=np.append(L_val_GD,L(theta,nu,const))\n",
    "        DIFF_theta_GD=np.append(DIFF_theta_GD,abs(theta-theta_star))\n",
    "        DIFF_nu_GD=np.append(DIFF_nu_GD,abs(nu-nu_star))\n",
    "        \n",
    "        DLN_theta=dL_theta(theta,nu,const)\n",
    "        DLN_nu=dL_nu(theta,nu,const)\n",
    "        \n",
    "        theta=theta+eta*DLN_theta\n",
    "        nu=nu+eta*DLN_nu\n",
    "    return DIFF_theta_GD, DIFF_nu_GD"
   ]
  },
  {
   "cell_type": "markdown",
   "metadata": {},
   "source": [
    "Adagrad"
   ]
  },
  {
   "cell_type": "code",
   "execution_count": 5,
   "metadata": {},
   "outputs": [],
   "source": [
    "def adagd(iteration,theta0,nu0,theta_star,nu_star,const,eta,beta):\n",
    "    \n",
    "    theta=theta0\n",
    "    nu=nu0\n",
    "    \n",
    "    L_val=np.array([])\n",
    "    DIFF_theta=np.array([])\n",
    "    DIFF_nu=np.array([])\n",
    "    for i in range(iteration):\n",
    "        L_val=np.append(L_val,L(theta,nu,const))\n",
    "        DIFF_theta=np.append(DIFF_theta,abs(theta-theta_star))\n",
    "        DIFF_nu=np.append(DIFF_nu,abs(nu-nu_star))\n",
    "        \n",
    "        DLN_theta=dL_theta(theta,nu,const)\n",
    "        DLN_nu=dL_nu(theta,nu,const)\n",
    "        \n",
    "        theta=theta+eta/(beta**i)*DLN_theta\n",
    "        nu=nu+eta*DLN_nu\n",
    "    return DIFF_theta, DIFF_nu"
   ]
  },
  {
   "cell_type": "code",
   "execution_count": 10,
   "metadata": {},
   "outputs": [
    {
     "data": {
      "text/plain": [
       "Text(0, 0.5, 'log ||theta-theta*||')"
      ]
     },
     "execution_count": 10,
     "metadata": {},
     "output_type": "execute_result"
    },
    {
     "data": {
      "image/png": "[encoded data removed]",
      "text/plain": [
       "<Figure size 432x288 with 1 Axes>"
      ]
     },
     "metadata": {
      "needs_background": "light"
     },
     "output_type": "display_data"
    }
   ],
   "source": [
    "iteration=1000\n",
    "\n",
    "theta0=0.01 #initial\n",
    "nu0=0.9   #initial \n",
    "const=1\n",
    "\n",
    "beta=1\n",
    "eta=0.02\n",
    "\n",
    "\n",
    "DIFF_adagrad_theta,DIFF_adagrad_nu=adagd(iteration,theta0,nu0,theta_star,nu_star,const,eta,beta)\n",
    "DIFF_GD_theta,DIFF_GD_nu=gd(iteration,theta0,nu0,theta_star,nu_star,const,eta,beta)\n",
    "plt.plot(range(iteration), np.log(DIFF_adagrad_theta), label='Adagd, eta=0.02')\n",
    "plt.plot(range(iteration), np.log(DIFF_GD_theta), label='GD, eta=0.02')\n",
    "plt.legend()\n",
    "plt.xlabel('Iteration')\n",
    "plt.ylabel('log ||theta-theta*||')"
   ]
  },
  {
   "cell_type": "code",
   "execution_count": 7,
   "metadata": {},
   "outputs": [
    {
     "data": {
      "text/plain": [
       "Text(0, 0.5, 'log ||nu-nu*||')"
      ]
     },
     "execution_count": 7,
     "metadata": {},
     "output_type": "execute_result"
    },
    {
     "data": {
      "image/png": "[encoded data removed]",
      "text/plain": [
       "<Figure size 432x288 with 1 Axes>"
      ]
     },
     "metadata": {
      "needs_background": "light"
     },
     "output_type": "display_data"
    }
   ],
   "source": [
    "plt.plot(range(iteration), np.log(DIFF_adagrad_nu), label='Adagd, eta=0.02')\n",
    "plt.plot(range(iteration), np.log(DIFF_GD_nu), label='GD, eta=0.02')\n",
    "plt.legend()\n",
    "plt.xlabel('Iteration')\n",
    "plt.ylabel('log ||nu-nu*||')"
   ]
  },
  {
   "cell_type": "code",
   "execution_count": 8,
   "metadata": {},
   "outputs": [
    {
     "data": {
      "text/plain": [
       "array([0.01      , 0.00996925, 0.00993956, 0.00991089, 0.00988321,\n",
       "       0.00985651, 0.00983075, 0.00980591, 0.00978196, 0.00975888,\n",
       "       0.00973663, 0.0097152 , 0.00969456, 0.00967468, 0.00965554,\n",
       "       0.00963711, 0.00961937, 0.00960229, 0.00958586, 0.00957006,\n",
       "       0.00955485, 0.00954022, 0.00952615, 0.00951262, 0.00949961,\n",
       "       0.00948709, 0.00947507, 0.0094635 , 0.00945239, 0.0094417 ,\n",
       "       0.00943144, 0.00942157, 0.00941209, 0.00940298, 0.00939422,\n",
       "       0.00938581, 0.00937773, 0.00936997, 0.00936252, 0.00935536,\n",
       "       0.00934848, 0.00934187, 0.00933553, 0.00932944, 0.00932359,\n",
       "       0.00931797, 0.00931258, 0.00930741, 0.00930244, 0.00929767,\n",
       "       0.00929309, 0.00928869, 0.00928447, 0.00928042, 0.00927654,\n",
       "       0.00927281, 0.00926923, 0.00926579, 0.0092625 , 0.00925934,\n",
       "       0.00925631, 0.0092534 , 0.0092506 , 0.00924793, 0.00924536,\n",
       "       0.0092429 , 0.00924053, 0.00923827, 0.0092361 , 0.00923401,\n",
       "       0.00923202, 0.0092301 , 0.00922827, 0.00922651, 0.00922482,\n",
       "       0.00922321, 0.00922166, 0.00922018, 0.00921875, 0.00921739,\n",
       "       0.00921609, 0.00921484, 0.00921364, 0.0092125 , 0.0092114 ,\n",
       "       0.00921035, 0.00920934, 0.00920838, 0.00920746, 0.00920658,\n",
       "       0.00920574, 0.00920493, 0.00920416, 0.00920342, 0.00920272,\n",
       "       0.00920205, 0.0092014 , 0.00920079, 0.0092002 , 0.00919964,\n",
       "       0.00919911, 0.0091986 , 0.00919811, 0.00919765, 0.0091972 ,\n",
       "       0.00919678, 0.00919638, 0.009196  , 0.00919563, 0.00919529,\n",
       "       0.00919496, 0.00919464, 0.00919435, 0.00919406, 0.00919379,\n",
       "       0.00919354, 0.0091933 , 0.00919307, 0.00919285, 0.00919265,\n",
       "       0.00919245, 0.00919227, 0.0091921 , 0.00919194, 0.00919178,\n",
       "       0.00919164, 0.00919151, 0.00919138, 0.00919126, 0.00919115,\n",
       "       0.00919105, 0.00919095, 0.00919087, 0.00919078, 0.00919071,\n",
       "       0.00919064, 0.00919058, 0.00919052, 0.00919047, 0.00919042,\n",
       "       0.00919038, 0.00919034, 0.00919031, 0.00919028, 0.00919025,\n",
       "       0.00919023, 0.00919022, 0.0091902 , 0.00919019, 0.00919019,\n",
       "       0.00919019, 0.00919019, 0.00919019, 0.0091902 , 0.00919021,\n",
       "       0.00919022, 0.00919024, 0.00919026, 0.00919028, 0.0091903 ,\n",
       "       0.00919032, 0.00919035, 0.00919038, 0.00919041, 0.00919044,\n",
       "       0.00919048, 0.00919051, 0.00919055, 0.00919059, 0.00919063,\n",
       "       0.00919067, 0.00919072, 0.00919076, 0.00919081, 0.00919086,\n",
       "       0.0091909 , 0.00919095, 0.00919101, 0.00919106, 0.00919111,\n",
       "       0.00919117, 0.00919122, 0.00919128, 0.00919133, 0.00919139,\n",
       "       0.00919145, 0.00919151, 0.00919157, 0.00919163, 0.00919169,\n",
       "       0.00919175, 0.00919182, 0.00919188, 0.00919194, 0.00919201,\n",
       "       0.00919207, 0.00919214, 0.0091922 , 0.00919227, 0.00919234,\n",
       "       0.0091924 , 0.00919247, 0.00919254, 0.00919261, 0.00919268,\n",
       "       0.00919275, 0.00919282, 0.00919289, 0.00919296, 0.00919303,\n",
       "       0.0091931 , 0.00919317, 0.00919324, 0.00919331, 0.00919338,\n",
       "       0.00919346, 0.00919353, 0.0091936 , 0.00919367, 0.00919375,\n",
       "       0.00919382, 0.00919389, 0.00919397, 0.00919404, 0.00919411,\n",
       "       0.00919419, 0.00919426, 0.00919434, 0.00919441, 0.00919449,\n",
       "       0.00919456, 0.00919464, 0.00919471, 0.00919479, 0.00919486,\n",
       "       0.00919494, 0.00919501, 0.00919509, 0.00919516, 0.00919524,\n",
       "       0.00919531, 0.00919539, 0.00919547, 0.00919554, 0.00919562,\n",
       "       0.00919569, 0.00919577, 0.00919585, 0.00919592, 0.009196  ,\n",
       "       0.00919608, 0.00919615, 0.00919623, 0.00919631, 0.00919638,\n",
       "       0.00919646, 0.00919654, 0.00919661, 0.00919669, 0.00919677,\n",
       "       0.00919684, 0.00919692, 0.009197  , 0.00919707, 0.00919715,\n",
       "       0.00919723, 0.00919731, 0.00919738, 0.00919746, 0.00919754,\n",
       "       0.00919761, 0.00919769, 0.00919777, 0.00919785, 0.00919792,\n",
       "       0.009198  , 0.00919808, 0.00919816, 0.00919823, 0.00919831,\n",
       "       0.00919839, 0.00919847, 0.00919854, 0.00919862, 0.0091987 ,\n",
       "       0.00919878, 0.00919885, 0.00919893, 0.00919901, 0.00919909,\n",
       "       0.00919916, 0.00919924, 0.00919932, 0.0091994 , 0.00919947,\n",
       "       0.00919955, 0.00919963, 0.00919971, 0.00919978, 0.00919986,\n",
       "       0.00919994, 0.00920002, 0.0092001 , 0.00920017, 0.00920025,\n",
       "       0.00920033, 0.00920041, 0.00920048, 0.00920056, 0.00920064,\n",
       "       0.00920072, 0.0092008 , 0.00920087, 0.00920095, 0.00920103,\n",
       "       0.00920111, 0.00920118, 0.00920126, 0.00920134, 0.00920142,\n",
       "       0.0092015 , 0.00920157, 0.00920165, 0.00920173, 0.00920181,\n",
       "       0.00920189, 0.00920196, 0.00920204, 0.00920212, 0.0092022 ,\n",
       "       0.00920227, 0.00920235, 0.00920243, 0.00920251, 0.00920259,\n",
       "       0.00920266, 0.00920274, 0.00920282, 0.0092029 , 0.00920298,\n",
       "       0.00920305, 0.00920313, 0.00920321, 0.00920329, 0.00920337,\n",
       "       0.00920344, 0.00920352, 0.0092036 , 0.00920368, 0.00920376,\n",
       "       0.00920383, 0.00920391, 0.00920399, 0.00920407, 0.00920415,\n",
       "       0.00920422, 0.0092043 , 0.00920438, 0.00920446, 0.00920454,\n",
       "       0.00920461, 0.00920469, 0.00920477, 0.00920485, 0.00920493,\n",
       "       0.009205  , 0.00920508, 0.00920516, 0.00920524, 0.00920532,\n",
       "       0.00920539, 0.00920547, 0.00920555, 0.00920563, 0.00920571,\n",
       "       0.00920578, 0.00920586, 0.00920594, 0.00920602, 0.0092061 ,\n",
       "       0.00920617, 0.00920625, 0.00920633, 0.00920641, 0.00920649,\n",
       "       0.00920656, 0.00920664, 0.00920672, 0.0092068 , 0.00920688,\n",
       "       0.00920695, 0.00920703, 0.00920711, 0.00920719, 0.00920727,\n",
       "       0.00920735, 0.00920742, 0.0092075 , 0.00920758, 0.00920766,\n",
       "       0.00920774, 0.00920781, 0.00920789, 0.00920797, 0.00920805,\n",
       "       0.00920813, 0.0092082 , 0.00920828, 0.00920836, 0.00920844,\n",
       "       0.00920852, 0.00920859, 0.00920867, 0.00920875, 0.00920883,\n",
       "       0.00920891, 0.00920899, 0.00920906, 0.00920914, 0.00920922,\n",
       "       0.0092093 , 0.00920938, 0.00920945, 0.00920953, 0.00920961,\n",
       "       0.00920969, 0.00920977, 0.00920984, 0.00920992, 0.00921   ,\n",
       "       0.00921008, 0.00921016, 0.00921024, 0.00921031, 0.00921039,\n",
       "       0.00921047, 0.00921055, 0.00921063, 0.0092107 , 0.00921078,\n",
       "       0.00921086, 0.00921094, 0.00921102, 0.0092111 , 0.00921117,\n",
       "       0.00921125, 0.00921133, 0.00921141, 0.00921149, 0.00921156,\n",
       "       0.00921164, 0.00921172, 0.0092118 , 0.00921188, 0.00921196,\n",
       "       0.00921203, 0.00921211, 0.00921219, 0.00921227, 0.00921235,\n",
       "       0.00921242, 0.0092125 , 0.00921258, 0.00921266, 0.00921274,\n",
       "       0.00921282, 0.00921289, 0.00921297, 0.00921305, 0.00921313,\n",
       "       0.00921321, 0.00921329, 0.00921336, 0.00921344, 0.00921352,\n",
       "       0.0092136 , 0.00921368, 0.00921375, 0.00921383, 0.00921391,\n",
       "       0.00921399, 0.00921407, 0.00921415, 0.00921422, 0.0092143 ,\n",
       "       0.00921438, 0.00921446, 0.00921454, 0.00921462, 0.00921469,\n",
       "       0.00921477, 0.00921485, 0.00921493, 0.00921501, 0.00921509,\n",
       "       0.00921516, 0.00921524, 0.00921532, 0.0092154 , 0.00921548,\n",
       "       0.00921555, 0.00921563, 0.00921571, 0.00921579, 0.00921587,\n",
       "       0.00921595, 0.00921602, 0.0092161 , 0.00921618, 0.00921626,\n",
       "       0.00921634, 0.00921642, 0.00921649, 0.00921657, 0.00921665,\n",
       "       0.00921673, 0.00921681, 0.00921689, 0.00921696, 0.00921704,\n",
       "       0.00921712, 0.0092172 , 0.00921728, 0.00921736, 0.00921743,\n",
       "       0.00921751, 0.00921759, 0.00921767, 0.00921775, 0.00921783,\n",
       "       0.0092179 , 0.00921798, 0.00921806, 0.00921814, 0.00921822,\n",
       "       0.0092183 , 0.00921837, 0.00921845, 0.00921853, 0.00921861,\n",
       "       0.00921869, 0.00921877, 0.00921884, 0.00921892, 0.009219  ,\n",
       "       0.00921908, 0.00921916, 0.00921924, 0.00921932, 0.00921939,\n",
       "       0.00921947, 0.00921955, 0.00921963, 0.00921971, 0.00921979,\n",
       "       0.00921986, 0.00921994, 0.00922002, 0.0092201 , 0.00922018,\n",
       "       0.00922026, 0.00922033, 0.00922041, 0.00922049, 0.00922057,\n",
       "       0.00922065, 0.00922073, 0.00922081, 0.00922088, 0.00922096,\n",
       "       0.00922104, 0.00922112, 0.0092212 , 0.00922128, 0.00922135,\n",
       "       0.00922143, 0.00922151, 0.00922159, 0.00922167, 0.00922175,\n",
       "       0.00922182, 0.0092219 , 0.00922198, 0.00922206, 0.00922214,\n",
       "       0.00922222, 0.0092223 , 0.00922237, 0.00922245, 0.00922253,\n",
       "       0.00922261, 0.00922269, 0.00922277, 0.00922284, 0.00922292,\n",
       "       0.009223  , 0.00922308, 0.00922316, 0.00922324, 0.00922332,\n",
       "       0.00922339, 0.00922347, 0.00922355, 0.00922363, 0.00922371,\n",
       "       0.00922379, 0.00922387, 0.00922394, 0.00922402, 0.0092241 ,\n",
       "       0.00922418, 0.00922426, 0.00922434, 0.00922441, 0.00922449,\n",
       "       0.00922457, 0.00922465, 0.00922473, 0.00922481, 0.00922489,\n",
       "       0.00922496, 0.00922504, 0.00922512, 0.0092252 , 0.00922528,\n",
       "       0.00922536, 0.00922544, 0.00922551, 0.00922559, 0.00922567,\n",
       "       0.00922575, 0.00922583, 0.00922591, 0.00922599, 0.00922606,\n",
       "       0.00922614, 0.00922622, 0.0092263 , 0.00922638, 0.00922646,\n",
       "       0.00922654, 0.00922661, 0.00922669, 0.00922677, 0.00922685,\n",
       "       0.00922693, 0.00922701, 0.00922709, 0.00922716, 0.00922724,\n",
       "       0.00922732, 0.0092274 , 0.00922748, 0.00922756, 0.00922764,\n",
       "       0.00922771, 0.00922779, 0.00922787, 0.00922795, 0.00922803,\n",
       "       0.00922811, 0.00922819, 0.00922826, 0.00922834, 0.00922842,\n",
       "       0.0092285 , 0.00922858, 0.00922866, 0.00922874, 0.00922882,\n",
       "       0.00922889, 0.00922897, 0.00922905, 0.00922913, 0.00922921,\n",
       "       0.00922929, 0.00922937, 0.00922944, 0.00922952, 0.0092296 ,\n",
       "       0.00922968, 0.00922976, 0.00922984, 0.00922992, 0.00922999,\n",
       "       0.00923007, 0.00923015, 0.00923023, 0.00923031, 0.00923039,\n",
       "       0.00923047, 0.00923055, 0.00923062, 0.0092307 , 0.00923078,\n",
       "       0.00923086, 0.00923094, 0.00923102, 0.0092311 , 0.00923117,\n",
       "       0.00923125, 0.00923133, 0.00923141, 0.00923149, 0.00923157,\n",
       "       0.00923165, 0.00923173, 0.0092318 , 0.00923188, 0.00923196,\n",
       "       0.00923204, 0.00923212, 0.0092322 , 0.00923228, 0.00923236,\n",
       "       0.00923243, 0.00923251, 0.00923259, 0.00923267, 0.00923275,\n",
       "       0.00923283, 0.00923291, 0.00923299, 0.00923306, 0.00923314,\n",
       "       0.00923322, 0.0092333 , 0.00923338, 0.00923346, 0.00923354,\n",
       "       0.00923362, 0.00923369, 0.00923377, 0.00923385, 0.00923393,\n",
       "       0.00923401, 0.00923409, 0.00923417, 0.00923425, 0.00923432,\n",
       "       0.0092344 , 0.00923448, 0.00923456, 0.00923464, 0.00923472,\n",
       "       0.0092348 , 0.00923488, 0.00923495, 0.00923503, 0.00923511,\n",
       "       0.00923519, 0.00923527, 0.00923535, 0.00923543, 0.00923551,\n",
       "       0.00923558, 0.00923566, 0.00923574, 0.00923582, 0.0092359 ,\n",
       "       0.00923598, 0.00923606, 0.00923614, 0.00923622, 0.00923629,\n",
       "       0.00923637, 0.00923645, 0.00923653, 0.00923661, 0.00923669,\n",
       "       0.00923677, 0.00923685, 0.00923692, 0.009237  , 0.00923708,\n",
       "       0.00923716, 0.00923724, 0.00923732, 0.0092374 , 0.00923748,\n",
       "       0.00923756, 0.00923763, 0.00923771, 0.00923779, 0.00923787,\n",
       "       0.00923795, 0.00923803, 0.00923811, 0.00923819, 0.00923827,\n",
       "       0.00923834, 0.00923842, 0.0092385 , 0.00923858, 0.00923866,\n",
       "       0.00923874, 0.00923882, 0.0092389 , 0.00923898, 0.00923905,\n",
       "       0.00923913, 0.00923921, 0.00923929, 0.00923937, 0.00923945,\n",
       "       0.00923953, 0.00923961, 0.00923969, 0.00923976, 0.00923984,\n",
       "       0.00923992, 0.00924   , 0.00924008, 0.00924016, 0.00924024,\n",
       "       0.00924032, 0.0092404 , 0.00924047, 0.00924055, 0.00924063,\n",
       "       0.00924071, 0.00924079, 0.00924087, 0.00924095, 0.00924103,\n",
       "       0.00924111, 0.00924119, 0.00924126, 0.00924134, 0.00924142,\n",
       "       0.0092415 , 0.00924158, 0.00924166, 0.00924174, 0.00924182,\n",
       "       0.0092419 , 0.00924197, 0.00924205, 0.00924213, 0.00924221,\n",
       "       0.00924229, 0.00924237, 0.00924245, 0.00924253, 0.00924261,\n",
       "       0.00924269, 0.00924276, 0.00924284, 0.00924292, 0.009243  ,\n",
       "       0.00924308, 0.00924316, 0.00924324, 0.00924332, 0.0092434 ,\n",
       "       0.00924348, 0.00924355, 0.00924363, 0.00924371, 0.00924379,\n",
       "       0.00924387, 0.00924395, 0.00924403, 0.00924411, 0.00924419,\n",
       "       0.00924427, 0.00924434, 0.00924442, 0.0092445 , 0.00924458,\n",
       "       0.00924466, 0.00924474, 0.00924482, 0.0092449 , 0.00924498,\n",
       "       0.00924506, 0.00924514, 0.00924521, 0.00924529, 0.00924537,\n",
       "       0.00924545, 0.00924553, 0.00924561, 0.00924569, 0.00924577,\n",
       "       0.00924585, 0.00924593, 0.009246  , 0.00924608, 0.00924616,\n",
       "       0.00924624, 0.00924632, 0.0092464 , 0.00924648, 0.00924656,\n",
       "       0.00924664, 0.00924672, 0.0092468 , 0.00924687, 0.00924695,\n",
       "       0.00924703, 0.00924711, 0.00924719, 0.00924727, 0.00924735,\n",
       "       0.00924743, 0.00924751, 0.00924759, 0.00924767, 0.00924775,\n",
       "       0.00924782, 0.0092479 , 0.00924798, 0.00924806, 0.00924814,\n",
       "       0.00924822, 0.0092483 , 0.00924838, 0.00924846, 0.00924854,\n",
       "       0.00924862, 0.00924869, 0.00924877, 0.00924885, 0.00924893,\n",
       "       0.00924901, 0.00924909, 0.00924917, 0.00924925, 0.00924933,\n",
       "       0.00924941, 0.00924949, 0.00924957, 0.00924964, 0.00924972,\n",
       "       0.0092498 , 0.00924988, 0.00924996, 0.00925004, 0.00925012,\n",
       "       0.0092502 , 0.00925028, 0.00925036, 0.00925044, 0.00925052,\n",
       "       0.00925059, 0.00925067, 0.00925075, 0.00925083, 0.00925091,\n",
       "       0.00925099, 0.00925107, 0.00925115, 0.00925123, 0.00925131,\n",
       "       0.00925139, 0.00925147, 0.00925155, 0.00925162, 0.0092517 ,\n",
       "       0.00925178, 0.00925186, 0.00925194, 0.00925202, 0.0092521 ,\n",
       "       0.00925218, 0.00925226, 0.00925234, 0.00925242, 0.0092525 ,\n",
       "       0.00925257, 0.00925265, 0.00925273, 0.00925281, 0.00925289,\n",
       "       0.00925297, 0.00925305, 0.00925313, 0.00925321, 0.00925329,\n",
       "       0.00925337, 0.00925345, 0.00925353, 0.00925361, 0.00925368,\n",
       "       0.00925376, 0.00925384, 0.00925392, 0.009254  , 0.00925408,\n",
       "       0.00925416, 0.00925424, 0.00925432, 0.0092544 , 0.00925448,\n",
       "       0.00925456, 0.00925464, 0.00925472, 0.00925479, 0.00925487])"
      ]
     },
     "execution_count": 8,
     "metadata": {},
     "output_type": "execute_result"
    }
   ],
   "source": [
    "DIFF_adagrad_theta"
   ]
  },
  {
   "cell_type": "code",
   "execution_count": null,
   "metadata": {},
   "outputs": [],
   "source": []
  }
 ],
 "metadata": {
  "kernelspec": {
   "display_name": "Python 3",
   "language": "python",
   "name": "python3"
  },
  "language_info": {
   "codemirror_mode": {
    "name": "ipython",
    "version": 3
   },
   "file_extension": ".py",
   "mimetype": "text/x-python",
   "name": "python",
   "nbconvert_exporter": "python",
   "pygments_lexer": "ipython3",
   "version": "3.7.6"
  }
 },
 "nbformat": 4,
 "nbformat_minor": 4
}
